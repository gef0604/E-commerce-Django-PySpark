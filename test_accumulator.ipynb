{
 "cells": [
  {
   "cell_type": "code",
   "execution_count": 1,
   "metadata": {},
   "outputs": [
    {
     "data": {
      "text/html": [
       "\n",
       "        <div>\n",
       "            <p><b>SparkContext</b></p>\n",
       "\n",
       "            <p><a href=\"http://gefdembp.attlocal.net:4040\">Spark UI</a></p>\n",
       "\n",
       "            <dl>\n",
       "              <dt>Version</dt>\n",
       "                <dd><code>v2.3.0</code></dd>\n",
       "              <dt>Master</dt>\n",
       "                <dd><code>local[*]</code></dd>\n",
       "              <dt>AppName</dt>\n",
       "                <dd><code>PySparkShell</code></dd>\n",
       "            </dl>\n",
       "        </div>\n",
       "        "
      ],
      "text/plain": [
       "<SparkContext master=local[*] appName=PySparkShell>"
      ]
     },
     "execution_count": 1,
     "metadata": {},
     "output_type": "execute_result"
    }
   ],
   "source": [
    "sc"
   ]
  },
  {
   "cell_type": "code",
   "execution_count": 2,
   "metadata": {},
   "outputs": [],
   "source": [
    "from utils.spark_utils import session_accumulator_param"
   ]
  },
  {
   "cell_type": "code",
   "execution_count": 3,
   "metadata": {},
   "outputs": [],
   "source": [
    "acc = sc.accumulator('{}', session_accumulator_param())"
   ]
  },
  {
   "cell_type": "code",
   "execution_count": 4,
   "metadata": {},
   "outputs": [
    {
     "data": {
      "text/plain": [
       "Accumulator<id=0, value={}>"
      ]
     },
     "execution_count": 4,
     "metadata": {},
     "output_type": "execute_result"
    }
   ],
   "source": [
    "acc"
   ]
  },
  {
   "cell_type": "code",
   "execution_count": 5,
   "metadata": {},
   "outputs": [],
   "source": [
    "rdd = sc.parallelize(['1', '2', '1', '2'])"
   ]
  },
  {
   "cell_type": "code",
   "execution_count": 6,
   "metadata": {},
   "outputs": [],
   "source": [
    "def test_acc(x):\n",
    "    global acc\n",
    "    acc.add(x)"
   ]
  },
  {
   "cell_type": "code",
   "execution_count": 7,
   "metadata": {},
   "outputs": [],
   "source": [
    "rdd.foreach(test_acc)"
   ]
  },
  {
   "cell_type": "code",
   "execution_count": 8,
   "metadata": {},
   "outputs": [
    {
     "data": {
      "text/plain": [
       "Accumulator<id=0, value={\"{\\\"1\\\": 1}\": 2, \"{\\\"2\\\": 1}\": 2, \"{}\": 12}>"
      ]
     },
     "execution_count": 8,
     "metadata": {},
     "output_type": "execute_result"
    }
   ],
   "source": [
    "acc"
   ]
  },
  {
   "cell_type": "code",
   "execution_count": 9,
   "metadata": {},
   "outputs": [
    {
     "data": {
      "text/plain": [
       "{'{\"1\": 1}': 2, '{\"2\": 1}': 2, '{}': 12}"
      ]
     },
     "execution_count": 9,
     "metadata": {},
     "output_type": "execute_result"
    }
   ],
   "source": [
    "import json\n",
    "json.loads(acc.value)"
   ]
  },
  {
   "cell_type": "code",
   "execution_count": 10,
   "metadata": {},
   "outputs": [],
   "source": [
    "acc.add('1')"
   ]
  },
  {
   "cell_type": "code",
   "execution_count": 11,
   "metadata": {},
   "outputs": [],
   "source": [
    "from pyspark import AccumulatorParam\n",
    "class test_acc_param(AccumulatorParam):\n",
    "    \"\"\"\n",
    "    maintain a countmap, to count the session steps\n",
    "    \"\"\"\n",
    "    def zero(self, value):\n",
    "\n",
    "        return ''\n",
    "\n",
    "    def addInPlace(self, value1, value2):\n",
    "        if value1 == '':\n",
    "            if value2 != '':\n",
    "                return json.dumps({value2 : 1})\n",
    "            else:\n",
    "                return value1\n",
    "        \n",
    "        else:\n",
    "            value1 = json.loads(value1)\n",
    "\n",
    "            if value2 in value1.keys():\n",
    "                value1[value2] = value1[value2] + 1\n",
    "\n",
    "            else:\n",
    "                value1[value2] = 1\n",
    "            \n",
    "            return json.dumps(value1, sort_keys=True)\n",
    "#\n",
    "class test_acc_param1(AccumulatorParam):\n",
    "    \"\"\"\n",
    "    maintain a countmap, to count the session steps\n",
    "    \"\"\"\n",
    "    def zero(self, value):\n",
    "\n",
    "        return ''\n",
    "\n",
    "    def addInPlace(self, value1, value2):\n",
    "        if value1 == '':\n",
    "            if value2 != '':\n",
    "                return json.dumps({value2 : 1})\n",
    "            else:\n",
    "                return value1\n",
    "        \n",
    "        else:\n",
    "            value1 = json.loads(value1)\n",
    "\n",
    "            if value2 in value1.keys():\n",
    "                value1[value2] = value1[value2] + 1\n",
    "\n",
    "            else:\n",
    "                value1[value2] = 1\n",
    "            \n",
    "            return json.dumps(value1, sort_keys=True)"
   ]
  },
  {
   "cell_type": "code",
   "execution_count": 19,
   "metadata": {},
   "outputs": [],
   "source": [
    "tcc = sc.accumulator('', test_acc_param())"
   ]
  },
  {
   "cell_type": "code",
   "execution_count": 23,
   "metadata": {},
   "outputs": [],
   "source": [
    "rdd = sc.parallelize(a)"
   ]
  },
  {
   "cell_type": "code",
   "execution_count": 24,
   "metadata": {},
   "outputs": [],
   "source": [
    "def test_acc1(x):\n",
    "    global tcc\n",
    "    tcc.add(x)"
   ]
  },
  {
   "cell_type": "code",
   "execution_count": 25,
   "metadata": {},
   "outputs": [],
   "source": [
    "rdd.foreach(test_acc1)"
   ]
  },
  {
   "cell_type": "code",
   "execution_count": 26,
   "metadata": {},
   "outputs": [
    {
     "data": {
      "text/plain": [
       "Accumulator<id=2, value={\"{\\\"2\\\": 1, \\\"3\\\": 2}\": 7, \"{\\\"2\\\": 2, \\\"3\\\": 1}\": 7, \"{\\\"2\\\": 2, \\\"3\\\": 2}\": 1, \"{\\\"2\\\": 3, \\\"3\\\": 3}\": 1}>"
      ]
     },
     "execution_count": 26,
     "metadata": {},
     "output_type": "execute_result"
    }
   ],
   "source": [
    "tcc"
   ]
  },
  {
   "cell_type": "code",
   "execution_count": 17,
   "metadata": {},
   "outputs": [],
   "source": [
    "a = ['3', '2', '3', '2','3', '2', '3', '2','3', '2', '3', '2','3', '2', '3', '2','3', '2', '3', '2','3', '2', '3', '2','3', '2', '3', '2','3', '2', '3', '2','3', '2', '3', '2','3', '2', '3', '2','3', '2', '3', '2','3', '2', '3', '2','3', '2', '3', '2']"
   ]
  },
  {
   "cell_type": "code",
   "execution_count": 26,
   "metadata": {},
   "outputs": [
    {
     "data": {
      "text/plain": [
       "52"
      ]
     },
     "execution_count": 26,
     "metadata": {},
     "output_type": "execute_result"
    }
   ],
   "source": [
    "rdd_a = sc.parallelize(a)"
   ]
  },
  {
   "cell_type": "code",
   "execution_count": null,
   "metadata": {},
   "outputs": [],
   "source": []
  }
 ],
 "metadata": {
  "kernelspec": {
   "display_name": "Python 3",
   "language": "python",
   "name": "python3"
  },
  "language_info": {
   "codemirror_mode": {
    "name": "ipython",
    "version": 3
   },
   "file_extension": ".py",
   "mimetype": "text/x-python",
   "name": "python",
   "nbconvert_exporter": "python",
   "pygments_lexer": "ipython3",
   "version": "3.6.6"
  }
 },
 "nbformat": 4,
 "nbformat_minor": 4
}
